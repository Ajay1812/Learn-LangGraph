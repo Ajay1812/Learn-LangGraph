{
 "cells": [
  {
   "cell_type": "code",
   "execution_count": 45,
   "id": "1ab75eb0",
   "metadata": {},
   "outputs": [
    {
     "data": {
      "text/plain": [
       "True"
      ]
     },
     "execution_count": 45,
     "metadata": {},
     "output_type": "execute_result"
    }
   ],
   "source": [
    "from langgraph.graph import StateGraph, START, END\n",
    "from typing import TypedDict, Annotated\n",
    "from langchain_core.messages import HumanMessage, BaseMessage, SystemMessage\n",
    "from langchain_google_genai import ChatGoogleGenerativeAI\n",
    "from langgraph.checkpoint.memory import MemorySaver\n",
    "from dotenv import load_dotenv\n",
    "import os\n",
    "load_dotenv()"
   ]
  },
  {
   "cell_type": "code",
   "execution_count": 36,
   "id": "bda3201a",
   "metadata": {},
   "outputs": [],
   "source": [
    "from langgraph.graph.message import add_messages\n",
    "class ChatState(TypedDict):\n",
    "    \n",
    "    messages: Annotated[list[BaseMessage], add_messages]"
   ]
  },
  {
   "cell_type": "code",
   "execution_count": 37,
   "id": "2b286e3a",
   "metadata": {},
   "outputs": [],
   "source": [
    "llm = ChatGoogleGenerativeAI(\n",
    "        model=\"gemini-2.5-flash-lite-preview-06-17\",\n",
    "        api_key=os.environ[\"GEMINI_API_KEY\"]\n",
    ")"
   ]
  },
  {
   "cell_type": "code",
   "execution_count": 38,
   "id": "05f94503",
   "metadata": {},
   "outputs": [],
   "source": [
    "system_message = SystemMessage(content=\"\"\"\n",
    "    You are an AI chatbot designed to provide short, concise, and accurate responses. Answer queries clearly and directly, using as few words as needed without losing meaning. Avoid unnecessary explanations, filler, or repetition. Stay relevant and focused on the user's question.\n",
    "\"\"\")"
   ]
  },
  {
   "cell_type": "code",
   "execution_count": 39,
   "id": "b899a463",
   "metadata": {},
   "outputs": [],
   "source": [
    "def chatnode(state: ChatState) -> ChatState:\n",
    "    messages = state[\"messages\"]\n",
    "    response = llm.invoke(messages).content\n",
    "    return {\"messages\": [system_message, response]}"
   ]
  },
  {
   "cell_type": "code",
   "execution_count": 46,
   "id": "a5bfdfb5",
   "metadata": {},
   "outputs": [],
   "source": [
    "checkpointer = MemorySaver()\n",
    "graph = StateGraph(ChatState)\n",
    "graph.add_node(\"chatnode\", chatnode)\n",
    "graph.add_edge(START, \"chatnode\")\n",
    "graph.add_edge(\"chatnode\", END)\n",
    "workflow = graph.compile(checkpointer=checkpointer)"
   ]
  },
  {
   "cell_type": "code",
   "execution_count": 41,
   "id": "32ee8680",
   "metadata": {},
   "outputs": [
    {
     "data": {
      "image/png": "[encoded data removed]",
      "text/plain": [
       "<IPython.core.display.Image object>"
      ]
     },
     "metadata": {},
     "output_type": "display_data"
    }
   ],
   "source": [
    "from IPython.display import display, Image\n",
    "display(Image(workflow.get_graph().draw_mermaid_png()))"
   ]
  },
  {
   "cell_type": "code",
   "execution_count": 42,
   "id": "8462d712",
   "metadata": {},
   "outputs": [],
   "source": [
    "inital_state = {\n",
    "    \"messages\" : [HumanMessage(content=\"Hello, How are you?\")]\n",
    "}\n",
    "\n",
    "result = workflow.invoke(inital_state)[\"messages\"][-1].content"
   ]
  },
  {
   "cell_type": "code",
   "execution_count": 43,
   "id": "76c9c923",
   "metadata": {},
   "outputs": [
    {
     "data": {
      "text/plain": [
       "'Hello! I am doing well, thank you for asking. I am a large language model, trained by Google. I am here and ready to help you with whatever you need. How can I assist you today?'"
      ]
     },
     "execution_count": 43,
     "metadata": {},
     "output_type": "execute_result"
    }
   ],
   "source": [
    "result"
   ]
  },
  {
   "cell_type": "code",
   "execution_count": 47,
   "id": "0077b79a",
   "metadata": {},
   "outputs": [
    {
     "name": "stdout",
     "output_type": "stream",
     "text": [
      "USER:  hi\n",
      "AI: Hi there! How can I help you today?\n",
      "USER:  my name is Ajay\n",
      "AI: Hi Ajay! It's nice to meet you.\n",
      "\n",
      "I can help you with a wide range of tasks. For example, I can:\n",
      "\n",
      "*   **Answer your questions:** About almost any topic you can think of.\n",
      "*   **Generate creative text formats:** Like poems, code, scripts, musical pieces, email, letters, etc.\n",
      "*   **Translate languages.**\n",
      "*   **Summarize information.**\n",
      "*   **Help you brainstorm ideas.**\n",
      "*   **Write different kinds of content.**\n",
      "*   **And much more!**\n",
      "\n",
      "So, Ajay, what's on your mind today? What can I do for you?\n",
      "USER:  who are you?\n",
      "AI: I am a large language model, trained by Google.\n",
      "USER:  do you know my name?\n",
      "AI: Yes, Ajay, I do know your name. You told me it earlier.\n",
      "USER:  cool\n",
      "AI: Great! So, Ajay, what would you like to do now? Do you have a question, a task, or something you'd like to explore? I'm ready when you are!\n",
      "USER:  exit\n"
     ]
    }
   ],
   "source": [
    "thread_id = \"1\"\n",
    "\n",
    "while True:\n",
    "    user_meessage = input(\"Type here: \")\n",
    "    print(\"USER: \", user_meessage)\n",
    "    if user_meessage.strip().lower() in [\"exit\", \"quit\", \"bye\"]:\n",
    "        break\n",
    "    config = {\"configurable\" : {\"thread_id\" : thread_id}}\n",
    "    response = workflow.invoke({\"messages\": [HumanMessage(content=user_meessage)]}, config=config)\n",
    "    print(\"AI:\", response[\"messages\"][-1].content)"
   ]
  },
  {
   "cell_type": "code",
   "execution_count": 66,
   "id": "66da6265",
   "metadata": {},
   "outputs": [
    {
     "data": {
      "text/plain": [
       "[HumanMessage(content='hi', additional_kwargs={}, response_metadata={}, id='82dc7247-8826-4135-925a-c75fd9c5d7b3'),\n",
       " SystemMessage(content=\"\\n    You are an AI chatbot designed to provide short, concise, and accurate responses. Answer queries clearly and directly, using as few words as needed without losing meaning. Avoid unnecessary explanations, filler, or repetition. Stay relevant and focused on the user's question.\\n\", additional_kwargs={}, response_metadata={}, id='47a402eb-6979-4145-a890-e2ae828ecd3b'),\n",
       " HumanMessage(content='Hi there! How can I help you today?', additional_kwargs={}, response_metadata={}, id='3028e206-4b29-492b-a43a-73eabb68a67e'),\n",
       " HumanMessage(content='my name is Ajay', additional_kwargs={}, response_metadata={}, id='790a1709-24e1-4ab9-8096-1fe43b1a7f5a'),\n",
       " HumanMessage(content=\"Hi Ajay! It's nice to meet you.\\n\\nI can help you with a wide range of tasks. For example, I can:\\n\\n*   **Answer your questions:** About almost any topic you can think of.\\n*   **Generate creative text formats:** Like poems, code, scripts, musical pieces, email, letters, etc.\\n*   **Translate languages.**\\n*   **Summarize information.**\\n*   **Help you brainstorm ideas.**\\n*   **Write different kinds of content.**\\n*   **And much more!**\\n\\nSo, Ajay, what's on your mind today? What can I do for you?\", additional_kwargs={}, response_metadata={}, id='d765997c-df39-4c65-a95a-8e8f32f16b66'),\n",
       " HumanMessage(content='who are you?', additional_kwargs={}, response_metadata={}, id='6bcfac3e-425f-4038-8133-a25257c9ffd9'),\n",
       " HumanMessage(content='I am a large language model, trained by Google.', additional_kwargs={}, response_metadata={}, id='ef407fe3-736d-4d5e-8e9c-4aca4b9c9e21'),\n",
       " HumanMessage(content='do you know my name?', additional_kwargs={}, response_metadata={}, id='6a9cb866-75ef-4be6-bb58-26655444409b'),\n",
       " HumanMessage(content='Yes, Ajay, I do know your name. You told me it earlier.', additional_kwargs={}, response_metadata={}, id='81ae6e8e-af14-4d33-a87e-3a2cf5e964b4'),\n",
       " HumanMessage(content='cool', additional_kwargs={}, response_metadata={}, id='b24fe729-5828-4e5c-8d4a-acfbf5f08a75'),\n",
       " HumanMessage(content=\"Great! So, Ajay, what would you like to do now? Do you have a question, a task, or something you'd like to explore? I'm ready when you are!\", additional_kwargs={}, response_metadata={}, id='89a40b55-199b-4fc5-af37-7c1c11c88d44')]"
      ]
     },
     "execution_count": 66,
     "metadata": {},
     "output_type": "execute_result"
    }
   ],
   "source": [
    "workflow.get_state(config=config).values['messages']"
   ]
  },
  {
   "cell_type": "code",
   "execution_count": null,
   "id": "63edcb70",
   "metadata": {},
   "outputs": [],
   "source": []
  }
 ],
 "metadata": {
  "kernelspec": {
   "display_name": ".venv (3.13.3)",
   "language": "python",
   "name": "python3"
  },
  "language_info": {
   "codemirror_mode": {
    "name": "ipython",
    "version": 3
   },
   "file_extension": ".py",
   "mimetype": "text/x-python",
   "name": "python",
   "nbconvert_exporter": "python",
   "pygments_lexer": "ipython3",
   "version": "3.13.3"
  }
 },
 "nbformat": 4,
 "nbformat_minor": 5
}
