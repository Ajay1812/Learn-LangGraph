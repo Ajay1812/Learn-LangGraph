{
 "cells": [
  {
   "cell_type": "code",
   "execution_count": 35,
   "id": "80758247",
   "metadata": {},
   "outputs": [
    {
     "data": {
      "text/plain": [
       "True"
      ]
     },
     "execution_count": 35,
     "metadata": {},
     "output_type": "execute_result"
    }
   ],
   "source": [
    "from langgraph.graph import StateGraph, START, END\n",
    "from langchain_google_genai import ChatGoogleGenerativeAI\n",
    "from typing import TypedDict\n",
    "from langgraph.checkpoint.memory import InMemorySaver\n",
    "from dotenv import load_dotenv\n",
    "import os \n",
    "load_dotenv()"
   ]
  },
  {
   "cell_type": "code",
   "execution_count": 36,
   "id": "71256653",
   "metadata": {},
   "outputs": [],
   "source": [
    "model = ChatGoogleGenerativeAI(\n",
    "    model=\"gemini-2.5-flash-lite-preview-06-17\",\n",
    "    api_key=os.environ[\"GEMINI_API_KEY\"]\n",
    ")"
   ]
  },
  {
   "cell_type": "code",
   "execution_count": 37,
   "id": "1f9b5236",
   "metadata": {},
   "outputs": [],
   "source": [
    "class JokeState(TypedDict):\n",
    "    topic: str\n",
    "    joke: str\n",
    "    explaination: str"
   ]
  },
  {
   "cell_type": "code",
   "execution_count": 38,
   "id": "85ac5d30",
   "metadata": {},
   "outputs": [],
   "source": [
    "def generate_joke(state):\n",
    "    prompt = f\"Generate a one line joke on this given topic: {state[\"topic\"]}\"\n",
    "    response = model.invoke(prompt).content\n",
    "    return {\"joke\" : response}"
   ]
  },
  {
   "cell_type": "code",
   "execution_count": null,
   "id": "52bd9ddf",
   "metadata": {},
   "outputs": [],
   "source": [
    "def generate_explaination(state):\n",
    "    prompt = f\"Generate short explaination of given joke:\\n {state[\"joke\"]}\"\n",
    "    response = model.invoke(prompt).content\n",
    "    return {\"explaination\" : response}"
   ]
  },
  {
   "cell_type": "code",
   "execution_count": 44,
   "id": "dfd42ced",
   "metadata": {},
   "outputs": [],
   "source": [
    "graph = StateGraph(JokeState)\n",
    "graph.add_node(\"generate_joke\", generate_joke)\n",
    "graph.add_node(\"generate_explaination\", generate_explaination)\n",
    "graph.add_edge(START, \"generate_joke\")\n",
    "graph.add_edge(\"generate_joke\", \"generate_explaination\")\n",
    "graph.add_edge(\"generate_explaination\", END)\n",
    "\n",
    "checkpointer = InMemorySaver()\n",
    "\n",
    "workflow = graph.compile(checkpointer=checkpointer)"
   ]
  },
  {
   "cell_type": "code",
   "execution_count": 48,
   "id": "fc85fd9c",
   "metadata": {},
   "outputs": [
    {
     "data": {
      "text/plain": [
       "{'topic': 'burger',\n",
       " 'joke': 'Why did the hamburger break up with the hot dog? Because he felt like he was getting bun-dled.',\n",
       " 'explaination': 'This joke is a pun, playing on two different meanings of the word \"bundled.\"\\n\\nHere\\'s the breakdown:\\n\\n*   **Literal meaning of \"bundled\":** In the context of food, a \"bundle\" could refer to a group of things wrapped together.\\n*   **Figurative meaning of \"bundled\":** This is where the humor comes in. \"Bundled\" also sounds like \"bun-dled.\"\\n\\n**The Joke Explained:**\\n\\n1.  **The Setup:** \"Why did the hamburger break up with the hot dog?\" This sets up a scenario of a relationship ending between two common fast-food items.\\n\\n2.  **The Punchline:** \"Because he felt like he was getting bun-dled.\"\\n\\n3.  **The Pun:** The hamburger is breaking up with the hot dog because he feels like he\\'s being \"bun-dled.\" This means two things simultaneously:\\n    *   **Literally:** The hamburger is being put into a bun, and a hot dog is also typically served in a bun. So, the hamburger feels like it\\'s being \"bun-dled\" with the hot dog, perhaps in a shared bun or in a way that feels too close or constricting.\\n    *   **Figuratively (Sound-alike):** The phrase \"bun-dled\" sounds like \"bundled,\" which can imply being tied up, restricted, or overwhelmed by something. The hamburger feels like its individuality or freedom is being compromised by being \"bun-dled\" with the hot dog.\\n\\n**In essence, the hamburger is saying it felt like it was being forced into a situation with the hot dog that was too close and restrictive, like being \"bun-dled\" together.** The humor comes from the clever wordplay using \"bun-dled\" to create this double meaning.'}"
      ]
     },
     "execution_count": 48,
     "metadata": {},
     "output_type": "execute_result"
    }
   ],
   "source": [
    "# config1 = {\"configurable\": {\"thread_id\": \"1\"}}\n",
    "config2 = {\"configurable\": {\"thread_id\": \"2\"}}\n",
    "workflow.invoke({'topic': \"burger\"}, config=config2)"
   ]
  },
  {
   "cell_type": "code",
   "execution_count": 50,
   "id": "dc11c5aa",
   "metadata": {},
   "outputs": [
    {
     "data": {
      "text/plain": [
       "StateSnapshot(values={'topic': 'burger', 'joke': 'Why did the hamburger break up with the hot dog? Because he felt like he was getting bun-dled.', 'explaination': 'This joke is a pun, playing on two different meanings of the word \"bundled.\"\\n\\nHere\\'s the breakdown:\\n\\n*   **Literal meaning of \"bundled\":** In the context of food, a \"bundle\" could refer to a group of things wrapped together.\\n*   **Figurative meaning of \"bundled\":** This is where the humor comes in. \"Bundled\" also sounds like \"bun-dled.\"\\n\\n**The Joke Explained:**\\n\\n1.  **The Setup:** \"Why did the hamburger break up with the hot dog?\" This sets up a scenario of a relationship ending between two common fast-food items.\\n\\n2.  **The Punchline:** \"Because he felt like he was getting bun-dled.\"\\n\\n3.  **The Pun:** The hamburger is breaking up with the hot dog because he feels like he\\'s being \"bun-dled.\" This means two things simultaneously:\\n    *   **Literally:** The hamburger is being put into a bun, and a hot dog is also typically served in a bun. So, the hamburger feels like it\\'s being \"bun-dled\" with the hot dog, perhaps in a shared bun or in a way that feels too close or constricting.\\n    *   **Figuratively (Sound-alike):** The phrase \"bun-dled\" sounds like \"bundled,\" which can imply being tied up, restricted, or overwhelmed by something. The hamburger feels like its individuality or freedom is being compromised by being \"bun-dled\" with the hot dog.\\n\\n**In essence, the hamburger is saying it felt like it was being forced into a situation with the hot dog that was too close and restrictive, like being \"bun-dled\" together.** The humor comes from the clever wordplay using \"bun-dled\" to create this double meaning.'}, next=(), config={'configurable': {'thread_id': '2', 'checkpoint_ns': '', 'checkpoint_id': '1f06dd79-9e97-6bca-8002-ba6e578b89fe'}}, metadata={'source': 'loop', 'step': 2, 'parents': {}}, created_at='2025-07-31T06:28:41.609710+00:00', parent_config={'configurable': {'thread_id': '2', 'checkpoint_ns': '', 'checkpoint_id': '1f06dd79-8c0c-6046-8001-c94c9be595f4'}}, tasks=(), interrupts=())"
      ]
     },
     "execution_count": 50,
     "metadata": {},
     "output_type": "execute_result"
    }
   ],
   "source": [
    "workflow.get_state(config2)"
   ]
  },
  {
   "cell_type": "code",
   "execution_count": 51,
   "id": "7bf96336",
   "metadata": {},
   "outputs": [
    {
     "data": {
      "text/plain": [
       "[StateSnapshot(values={'topic': 'burger', 'joke': 'Why did the hamburger break up with the hot dog? Because he felt like he was getting bun-dled.', 'explaination': 'This joke is a pun, playing on two different meanings of the word \"bundled.\"\\n\\nHere\\'s the breakdown:\\n\\n*   **Literal meaning of \"bundled\":** In the context of food, a \"bundle\" could refer to a group of things wrapped together.\\n*   **Figurative meaning of \"bundled\":** This is where the humor comes in. \"Bundled\" also sounds like \"bun-dled.\"\\n\\n**The Joke Explained:**\\n\\n1.  **The Setup:** \"Why did the hamburger break up with the hot dog?\" This sets up a scenario of a relationship ending between two common fast-food items.\\n\\n2.  **The Punchline:** \"Because he felt like he was getting bun-dled.\"\\n\\n3.  **The Pun:** The hamburger is breaking up with the hot dog because he feels like he\\'s being \"bun-dled.\" This means two things simultaneously:\\n    *   **Literally:** The hamburger is being put into a bun, and a hot dog is also typically served in a bun. So, the hamburger feels like it\\'s being \"bun-dled\" with the hot dog, perhaps in a shared bun or in a way that feels too close or constricting.\\n    *   **Figuratively (Sound-alike):** The phrase \"bun-dled\" sounds like \"bundled,\" which can imply being tied up, restricted, or overwhelmed by something. The hamburger feels like its individuality or freedom is being compromised by being \"bun-dled\" with the hot dog.\\n\\n**In essence, the hamburger is saying it felt like it was being forced into a situation with the hot dog that was too close and restrictive, like being \"bun-dled\" together.** The humor comes from the clever wordplay using \"bun-dled\" to create this double meaning.'}, next=(), config={'configurable': {'thread_id': '2', 'checkpoint_ns': '', 'checkpoint_id': '1f06dd79-9e97-6bca-8002-ba6e578b89fe'}}, metadata={'source': 'loop', 'step': 2, 'parents': {}}, created_at='2025-07-31T06:28:41.609710+00:00', parent_config={'configurable': {'thread_id': '2', 'checkpoint_ns': '', 'checkpoint_id': '1f06dd79-8c0c-6046-8001-c94c9be595f4'}}, tasks=(), interrupts=()),\n",
       " StateSnapshot(values={'topic': 'burger', 'joke': 'Why did the hamburger break up with the hot dog? Because he felt like he was getting bun-dled.'}, next=('generate_explaination',), config={'configurable': {'thread_id': '2', 'checkpoint_ns': '', 'checkpoint_id': '1f06dd79-8c0c-6046-8001-c94c9be595f4'}}, metadata={'source': 'loop', 'step': 1, 'parents': {}}, created_at='2025-07-31T06:28:39.665043+00:00', parent_config={'configurable': {'thread_id': '2', 'checkpoint_ns': '', 'checkpoint_id': '1f06dd79-841e-65be-8000-5e6ee1e9c924'}}, tasks=(PregelTask(id='696e8036-1d6b-a237-7971-c73c93e5fb1f', name='generate_explaination', path=('__pregel_pull', 'generate_explaination'), error=None, interrupts=(), state=None, result={'explaination': 'This joke is a pun, playing on two different meanings of the word \"bundled.\"\\n\\nHere\\'s the breakdown:\\n\\n*   **Literal meaning of \"bundled\":** In the context of food, a \"bundle\" could refer to a group of things wrapped together.\\n*   **Figurative meaning of \"bundled\":** This is where the humor comes in. \"Bundled\" also sounds like \"bun-dled.\"\\n\\n**The Joke Explained:**\\n\\n1.  **The Setup:** \"Why did the hamburger break up with the hot dog?\" This sets up a scenario of a relationship ending between two common fast-food items.\\n\\n2.  **The Punchline:** \"Because he felt like he was getting bun-dled.\"\\n\\n3.  **The Pun:** The hamburger is breaking up with the hot dog because he feels like he\\'s being \"bun-dled.\" This means two things simultaneously:\\n    *   **Literally:** The hamburger is being put into a bun, and a hot dog is also typically served in a bun. So, the hamburger feels like it\\'s being \"bun-dled\" with the hot dog, perhaps in a shared bun or in a way that feels too close or constricting.\\n    *   **Figuratively (Sound-alike):** The phrase \"bun-dled\" sounds like \"bundled,\" which can imply being tied up, restricted, or overwhelmed by something. The hamburger feels like its individuality or freedom is being compromised by being \"bun-dled\" with the hot dog.\\n\\n**In essence, the hamburger is saying it felt like it was being forced into a situation with the hot dog that was too close and restrictive, like being \"bun-dled\" together.** The humor comes from the clever wordplay using \"bun-dled\" to create this double meaning.'}),), interrupts=()),\n",
       " StateSnapshot(values={'topic': 'burger'}, next=('generate_joke',), config={'configurable': {'thread_id': '2', 'checkpoint_ns': '', 'checkpoint_id': '1f06dd79-841e-65be-8000-5e6ee1e9c924'}}, metadata={'source': 'loop', 'step': 0, 'parents': {}}, created_at='2025-07-31T06:28:38.833692+00:00', parent_config={'configurable': {'thread_id': '2', 'checkpoint_ns': '', 'checkpoint_id': '1f06dd79-841c-6952-bfff-98da49271480'}}, tasks=(PregelTask(id='24206c07-651a-b00e-7927-380de7b91631', name='generate_joke', path=('__pregel_pull', 'generate_joke'), error=None, interrupts=(), state=None, result={'joke': 'Why did the hamburger break up with the hot dog? Because he felt like he was getting bun-dled.'}),), interrupts=()),\n",
       " StateSnapshot(values={}, next=('__start__',), config={'configurable': {'thread_id': '2', 'checkpoint_ns': '', 'checkpoint_id': '1f06dd79-841c-6952-bfff-98da49271480'}}, metadata={'source': 'input', 'step': -1, 'parents': {}}, created_at='2025-07-31T06:28:38.832974+00:00', parent_config=None, tasks=(PregelTask(id='7a98bd40-2bc7-c91b-ebe6-42341b2f1473', name='__start__', path=('__pregel_pull', '__start__'), error=None, interrupts=(), state=None, result={'topic': 'burger'}),), interrupts=())]"
      ]
     },
     "execution_count": 51,
     "metadata": {},
     "output_type": "execute_result"
    }
   ],
   "source": [
    "list(workflow.get_state_history(config2))"
   ]
  },
  {
   "cell_type": "markdown",
   "id": "5d8185c0",
   "metadata": {},
   "source": [
    "### Time travel"
   ]
  },
  {
   "cell_type": "code",
   "execution_count": null,
   "id": "30919071",
   "metadata": {},
   "outputs": [
    {
     "data": {
      "text/plain": [
       "StateSnapshot(values={'topic': 'burger'}, next=('generate_joke',), config={'configurable': {'thread_id': '2', 'checkpoint_id': '1f06dd79-841e-65be-8000-5e6ee1e9c924'}}, metadata={'source': 'loop', 'step': 0, 'parents': {}}, created_at='2025-07-31T06:28:38.833692+00:00', parent_config={'configurable': {'thread_id': '2', 'checkpoint_ns': '', 'checkpoint_id': '1f06dd79-841c-6952-bfff-98da49271480'}}, tasks=(PregelTask(id='24206c07-651a-b00e-7927-380de7b91631', name='generate_joke', path=('__pregel_pull', 'generate_joke'), error=None, interrupts=(), state=None, result={'joke': 'Why did the hamburger break up with the hot dog? Because he felt like he was getting bun-dled.'}),), interrupts=())"
      ]
     },
     "execution_count": 54,
     "metadata": {},
     "output_type": "execute_result"
    }
   ],
   "source": [
    "\n",
    "workflow.get_state({\"configurable\": {\"thread_id\": \"2\", \"checkpoint_id\": \"1f06dd79-841e-65be-8000-5e6ee1e9c924\"}})"
   ]
  },
  {
   "cell_type": "code",
   "execution_count": 55,
   "id": "746f7b52",
   "metadata": {},
   "outputs": [
    {
     "data": {
      "text/plain": [
       "{'topic': 'burger',\n",
       " 'joke': 'Why did the burger break up with the bun? It felt smothered!',\n",
       " 'explaination': 'This joke plays on the word \"smothered\" and its double meaning:\\n\\n*   **Literal Meaning:** In the context of food, \"smothered\" often means covered in a sauce or topping, like \"smothered fries\" or \"smothered chicken.\" A burger and bun are often put together, and the burger can be seen as being \"smothered\" by the bun, especially if it\\'s a tight fit or if there are many toppings inside.\\n\\n*   **Figurative Meaning:** In relationships, \"smothered\" means feeling overwhelmed, suffocated, or controlled by someone\\'s affection or attention. It implies a lack of space and independence.\\n\\n**The Joke\\'s Humor:**\\n\\nThe humor comes from applying the **figurative, relationship meaning** of \"smothered\" to the **literal, food context** of a burger and bun. The burger is personified as having feelings, and it breaks up with the bun because it feels overwhelmed by being enclosed within it, just like a person might feel in an overbearing relationship.\\n\\n**In short:** The burger felt like the bun was holding it too tightly and giving it no personal space, which is a common reason for relationship breakups, but in this case, it\\'s a literal description of being inside a bun.'}"
      ]
     },
     "execution_count": 55,
     "metadata": {},
     "output_type": "execute_result"
    }
   ],
   "source": [
    "workflow.invoke(None, {\"configurable\": {\"thread_id\": \"2\", \"checkpoint_id\": \"1f06dd79-841e-65be-8000-5e6ee1e9c924\"}})"
   ]
  },
  {
   "cell_type": "code",
   "execution_count": 56,
   "id": "3e85d834",
   "metadata": {},
   "outputs": [
    {
     "data": {
      "text/plain": [
       "[StateSnapshot(values={'topic': 'burger', 'joke': 'Why did the burger break up with the bun? It felt smothered!', 'explaination': 'This joke plays on the word \"smothered\" and its double meaning:\\n\\n*   **Literal Meaning:** In the context of food, \"smothered\" often means covered in a sauce or topping, like \"smothered fries\" or \"smothered chicken.\" A burger and bun are often put together, and the burger can be seen as being \"smothered\" by the bun, especially if it\\'s a tight fit or if there are many toppings inside.\\n\\n*   **Figurative Meaning:** In relationships, \"smothered\" means feeling overwhelmed, suffocated, or controlled by someone\\'s affection or attention. It implies a lack of space and independence.\\n\\n**The Joke\\'s Humor:**\\n\\nThe humor comes from applying the **figurative, relationship meaning** of \"smothered\" to the **literal, food context** of a burger and bun. The burger is personified as having feelings, and it breaks up with the bun because it feels overwhelmed by being enclosed within it, just like a person might feel in an overbearing relationship.\\n\\n**In short:** The burger felt like the bun was holding it too tightly and giving it no personal space, which is a common reason for relationship breakups, but in this case, it\\'s a literal description of being inside a bun.'}, next=(), config={'configurable': {'thread_id': '2', 'checkpoint_ns': '', 'checkpoint_id': '1f06ddae-0e98-6849-8002-3d6104343739'}}, metadata={'source': 'loop', 'step': 2, 'parents': {}}, created_at='2025-07-31T06:52:09.218453+00:00', parent_config={'configurable': {'thread_id': '2', 'checkpoint_ns': '', 'checkpoint_id': '1f06ddae-01a8-6654-8001-bd9047ab3938'}}, tasks=(), interrupts=()),\n",
       " StateSnapshot(values={'topic': 'burger', 'joke': 'Why did the burger break up with the bun? It felt smothered!'}, next=('generate_explaination',), config={'configurable': {'thread_id': '2', 'checkpoint_ns': '', 'checkpoint_id': '1f06ddae-01a8-6654-8001-bd9047ab3938'}}, metadata={'source': 'loop', 'step': 1, 'parents': {}}, created_at='2025-07-31T06:52:07.861806+00:00', parent_config={'configurable': {'thread_id': '2', 'checkpoint_ns': '', 'checkpoint_id': '1f06dd79-841e-65be-8000-5e6ee1e9c924'}}, tasks=(PregelTask(id='6275bb62-8153-9e49-eec3-c95bcb70c268', name='generate_explaination', path=('__pregel_pull', 'generate_explaination'), error=None, interrupts=(), state=None, result={'explaination': 'This joke plays on the word \"smothered\" and its double meaning:\\n\\n*   **Literal Meaning:** In the context of food, \"smothered\" often means covered in a sauce or topping, like \"smothered fries\" or \"smothered chicken.\" A burger and bun are often put together, and the burger can be seen as being \"smothered\" by the bun, especially if it\\'s a tight fit or if there are many toppings inside.\\n\\n*   **Figurative Meaning:** In relationships, \"smothered\" means feeling overwhelmed, suffocated, or controlled by someone\\'s affection or attention. It implies a lack of space and independence.\\n\\n**The Joke\\'s Humor:**\\n\\nThe humor comes from applying the **figurative, relationship meaning** of \"smothered\" to the **literal, food context** of a burger and bun. The burger is personified as having feelings, and it breaks up with the bun because it feels overwhelmed by being enclosed within it, just like a person might feel in an overbearing relationship.\\n\\n**In short:** The burger felt like the bun was holding it too tightly and giving it no personal space, which is a common reason for relationship breakups, but in this case, it\\'s a literal description of being inside a bun.'}),), interrupts=()),\n",
       " StateSnapshot(values={'topic': 'burger', 'joke': 'Why did the hamburger break up with the hot dog? Because he felt like he was getting bun-dled.', 'explaination': 'This joke is a pun, playing on two different meanings of the word \"bundled.\"\\n\\nHere\\'s the breakdown:\\n\\n*   **Literal meaning of \"bundled\":** In the context of food, a \"bundle\" could refer to a group of things wrapped together.\\n*   **Figurative meaning of \"bundled\":** This is where the humor comes in. \"Bundled\" also sounds like \"bun-dled.\"\\n\\n**The Joke Explained:**\\n\\n1.  **The Setup:** \"Why did the hamburger break up with the hot dog?\" This sets up a scenario of a relationship ending between two common fast-food items.\\n\\n2.  **The Punchline:** \"Because he felt like he was getting bun-dled.\"\\n\\n3.  **The Pun:** The hamburger is breaking up with the hot dog because he feels like he\\'s being \"bun-dled.\" This means two things simultaneously:\\n    *   **Literally:** The hamburger is being put into a bun, and a hot dog is also typically served in a bun. So, the hamburger feels like it\\'s being \"bun-dled\" with the hot dog, perhaps in a shared bun or in a way that feels too close or constricting.\\n    *   **Figuratively (Sound-alike):** The phrase \"bun-dled\" sounds like \"bundled,\" which can imply being tied up, restricted, or overwhelmed by something. The hamburger feels like its individuality or freedom is being compromised by being \"bun-dled\" with the hot dog.\\n\\n**In essence, the hamburger is saying it felt like it was being forced into a situation with the hot dog that was too close and restrictive, like being \"bun-dled\" together.** The humor comes from the clever wordplay using \"bun-dled\" to create this double meaning.'}, next=(), config={'configurable': {'thread_id': '2', 'checkpoint_ns': '', 'checkpoint_id': '1f06dd79-9e97-6bca-8002-ba6e578b89fe'}}, metadata={'source': 'loop', 'step': 2, 'parents': {}}, created_at='2025-07-31T06:28:41.609710+00:00', parent_config={'configurable': {'thread_id': '2', 'checkpoint_ns': '', 'checkpoint_id': '1f06dd79-8c0c-6046-8001-c94c9be595f4'}}, tasks=(), interrupts=()),\n",
       " StateSnapshot(values={'topic': 'burger', 'joke': 'Why did the hamburger break up with the hot dog? Because he felt like he was getting bun-dled.'}, next=('generate_explaination',), config={'configurable': {'thread_id': '2', 'checkpoint_ns': '', 'checkpoint_id': '1f06dd79-8c0c-6046-8001-c94c9be595f4'}}, metadata={'source': 'loop', 'step': 1, 'parents': {}}, created_at='2025-07-31T06:28:39.665043+00:00', parent_config={'configurable': {'thread_id': '2', 'checkpoint_ns': '', 'checkpoint_id': '1f06dd79-841e-65be-8000-5e6ee1e9c924'}}, tasks=(PregelTask(id='696e8036-1d6b-a237-7971-c73c93e5fb1f', name='generate_explaination', path=('__pregel_pull', 'generate_explaination'), error=None, interrupts=(), state=None, result={'explaination': 'This joke is a pun, playing on two different meanings of the word \"bundled.\"\\n\\nHere\\'s the breakdown:\\n\\n*   **Literal meaning of \"bundled\":** In the context of food, a \"bundle\" could refer to a group of things wrapped together.\\n*   **Figurative meaning of \"bundled\":** This is where the humor comes in. \"Bundled\" also sounds like \"bun-dled.\"\\n\\n**The Joke Explained:**\\n\\n1.  **The Setup:** \"Why did the hamburger break up with the hot dog?\" This sets up a scenario of a relationship ending between two common fast-food items.\\n\\n2.  **The Punchline:** \"Because he felt like he was getting bun-dled.\"\\n\\n3.  **The Pun:** The hamburger is breaking up with the hot dog because he feels like he\\'s being \"bun-dled.\" This means two things simultaneously:\\n    *   **Literally:** The hamburger is being put into a bun, and a hot dog is also typically served in a bun. So, the hamburger feels like it\\'s being \"bun-dled\" with the hot dog, perhaps in a shared bun or in a way that feels too close or constricting.\\n    *   **Figuratively (Sound-alike):** The phrase \"bun-dled\" sounds like \"bundled,\" which can imply being tied up, restricted, or overwhelmed by something. The hamburger feels like its individuality or freedom is being compromised by being \"bun-dled\" with the hot dog.\\n\\n**In essence, the hamburger is saying it felt like it was being forced into a situation with the hot dog that was too close and restrictive, like being \"bun-dled\" together.** The humor comes from the clever wordplay using \"bun-dled\" to create this double meaning.'}),), interrupts=()),\n",
       " StateSnapshot(values={'topic': 'burger'}, next=('generate_joke',), config={'configurable': {'thread_id': '2', 'checkpoint_ns': '', 'checkpoint_id': '1f06dd79-841e-65be-8000-5e6ee1e9c924'}}, metadata={'source': 'loop', 'step': 0, 'parents': {}}, created_at='2025-07-31T06:28:38.833692+00:00', parent_config={'configurable': {'thread_id': '2', 'checkpoint_ns': '', 'checkpoint_id': '1f06dd79-841c-6952-bfff-98da49271480'}}, tasks=(PregelTask(id='24206c07-651a-b00e-7927-380de7b91631', name='generate_joke', path=('__pregel_pull', 'generate_joke'), error=None, interrupts=(), state=None, result={'joke': 'Why did the hamburger break up with the hot dog? Because he felt like he was getting bun-dled.'}),), interrupts=()),\n",
       " StateSnapshot(values={}, next=('__start__',), config={'configurable': {'thread_id': '2', 'checkpoint_ns': '', 'checkpoint_id': '1f06dd79-841c-6952-bfff-98da49271480'}}, metadata={'source': 'input', 'step': -1, 'parents': {}}, created_at='2025-07-31T06:28:38.832974+00:00', parent_config=None, tasks=(PregelTask(id='7a98bd40-2bc7-c91b-ebe6-42341b2f1473', name='__start__', path=('__pregel_pull', '__start__'), error=None, interrupts=(), state=None, result={'topic': 'burger'}),), interrupts=())]"
      ]
     },
     "execution_count": 56,
     "metadata": {},
     "output_type": "execute_result"
    }
   ],
   "source": [
    "list(workflow.get_state_history(config2))"
   ]
  },
  {
   "cell_type": "markdown",
   "id": "3655ccf1",
   "metadata": {},
   "source": [
    "### Updating state\n"
   ]
  },
  {
   "cell_type": "code",
   "execution_count": 58,
   "id": "f27e1ec8",
   "metadata": {},
   "outputs": [
    {
     "data": {
      "text/plain": [
       "{'configurable': {'thread_id': '2',\n",
       "  'checkpoint_ns': '',\n",
       "  'checkpoint_id': '1f06ddba-eccc-615f-8001-2658dc941d60'}}"
      ]
     },
     "execution_count": 58,
     "metadata": {},
     "output_type": "execute_result"
    }
   ],
   "source": [
    "workflow.update_state({\"configurable\": {\"thread_id\": \"2\", \"checkpoint_id\": \"1f06dd79-841e-65be-8000-5e6ee1e9c924\", \"checkpoint_ns\": \"\"}}, {\"topic\": \"samosa\"})"
   ]
  },
  {
   "cell_type": "code",
   "execution_count": 59,
   "id": "ffe7ce7a",
   "metadata": {},
   "outputs": [
    {
     "data": {
      "text/plain": [
       "[StateSnapshot(values={'topic': 'samosa'}, next=('generate_joke',), config={'configurable': {'thread_id': '2', 'checkpoint_ns': '', 'checkpoint_id': '1f06ddba-eccc-615f-8001-2658dc941d60'}}, metadata={'source': 'update', 'step': 1, 'parents': {}}, created_at='2025-07-31T06:57:54.640510+00:00', parent_config={'configurable': {'thread_id': '2', 'checkpoint_ns': '', 'checkpoint_id': '1f06dd79-841e-65be-8000-5e6ee1e9c924'}}, tasks=(PregelTask(id='eff177a8-c01a-1ccf-8763-1b9d1e697740', name='generate_joke', path=('__pregel_pull', 'generate_joke'), error=None, interrupts=(), state=None, result=None),), interrupts=()),\n",
       " StateSnapshot(values={'topic': 'burger', 'joke': 'Why did the burger break up with the bun? It felt smothered!', 'explaination': 'This joke plays on the word \"smothered\" and its double meaning:\\n\\n*   **Literal Meaning:** In the context of food, \"smothered\" often means covered in a sauce or topping, like \"smothered fries\" or \"smothered chicken.\" A burger and bun are often put together, and the burger can be seen as being \"smothered\" by the bun, especially if it\\'s a tight fit or if there are many toppings inside.\\n\\n*   **Figurative Meaning:** In relationships, \"smothered\" means feeling overwhelmed, suffocated, or controlled by someone\\'s affection or attention. It implies a lack of space and independence.\\n\\n**The Joke\\'s Humor:**\\n\\nThe humor comes from applying the **figurative, relationship meaning** of \"smothered\" to the **literal, food context** of a burger and bun. The burger is personified as having feelings, and it breaks up with the bun because it feels overwhelmed by being enclosed within it, just like a person might feel in an overbearing relationship.\\n\\n**In short:** The burger felt like the bun was holding it too tightly and giving it no personal space, which is a common reason for relationship breakups, but in this case, it\\'s a literal description of being inside a bun.'}, next=(), config={'configurable': {'thread_id': '2', 'checkpoint_ns': '', 'checkpoint_id': '1f06ddae-0e98-6849-8002-3d6104343739'}}, metadata={'source': 'loop', 'step': 2, 'parents': {}}, created_at='2025-07-31T06:52:09.218453+00:00', parent_config={'configurable': {'thread_id': '2', 'checkpoint_ns': '', 'checkpoint_id': '1f06ddae-01a8-6654-8001-bd9047ab3938'}}, tasks=(), interrupts=()),\n",
       " StateSnapshot(values={'topic': 'burger', 'joke': 'Why did the burger break up with the bun? It felt smothered!'}, next=('generate_explaination',), config={'configurable': {'thread_id': '2', 'checkpoint_ns': '', 'checkpoint_id': '1f06ddae-01a8-6654-8001-bd9047ab3938'}}, metadata={'source': 'loop', 'step': 1, 'parents': {}}, created_at='2025-07-31T06:52:07.861806+00:00', parent_config={'configurable': {'thread_id': '2', 'checkpoint_ns': '', 'checkpoint_id': '1f06dd79-841e-65be-8000-5e6ee1e9c924'}}, tasks=(PregelTask(id='6275bb62-8153-9e49-eec3-c95bcb70c268', name='generate_explaination', path=('__pregel_pull', 'generate_explaination'), error=None, interrupts=(), state=None, result={'explaination': 'This joke plays on the word \"smothered\" and its double meaning:\\n\\n*   **Literal Meaning:** In the context of food, \"smothered\" often means covered in a sauce or topping, like \"smothered fries\" or \"smothered chicken.\" A burger and bun are often put together, and the burger can be seen as being \"smothered\" by the bun, especially if it\\'s a tight fit or if there are many toppings inside.\\n\\n*   **Figurative Meaning:** In relationships, \"smothered\" means feeling overwhelmed, suffocated, or controlled by someone\\'s affection or attention. It implies a lack of space and independence.\\n\\n**The Joke\\'s Humor:**\\n\\nThe humor comes from applying the **figurative, relationship meaning** of \"smothered\" to the **literal, food context** of a burger and bun. The burger is personified as having feelings, and it breaks up with the bun because it feels overwhelmed by being enclosed within it, just like a person might feel in an overbearing relationship.\\n\\n**In short:** The burger felt like the bun was holding it too tightly and giving it no personal space, which is a common reason for relationship breakups, but in this case, it\\'s a literal description of being inside a bun.'}),), interrupts=()),\n",
       " StateSnapshot(values={'topic': 'burger', 'joke': 'Why did the hamburger break up with the hot dog? Because he felt like he was getting bun-dled.', 'explaination': 'This joke is a pun, playing on two different meanings of the word \"bundled.\"\\n\\nHere\\'s the breakdown:\\n\\n*   **Literal meaning of \"bundled\":** In the context of food, a \"bundle\" could refer to a group of things wrapped together.\\n*   **Figurative meaning of \"bundled\":** This is where the humor comes in. \"Bundled\" also sounds like \"bun-dled.\"\\n\\n**The Joke Explained:**\\n\\n1.  **The Setup:** \"Why did the hamburger break up with the hot dog?\" This sets up a scenario of a relationship ending between two common fast-food items.\\n\\n2.  **The Punchline:** \"Because he felt like he was getting bun-dled.\"\\n\\n3.  **The Pun:** The hamburger is breaking up with the hot dog because he feels like he\\'s being \"bun-dled.\" This means two things simultaneously:\\n    *   **Literally:** The hamburger is being put into a bun, and a hot dog is also typically served in a bun. So, the hamburger feels like it\\'s being \"bun-dled\" with the hot dog, perhaps in a shared bun or in a way that feels too close or constricting.\\n    *   **Figuratively (Sound-alike):** The phrase \"bun-dled\" sounds like \"bundled,\" which can imply being tied up, restricted, or overwhelmed by something. The hamburger feels like its individuality or freedom is being compromised by being \"bun-dled\" with the hot dog.\\n\\n**In essence, the hamburger is saying it felt like it was being forced into a situation with the hot dog that was too close and restrictive, like being \"bun-dled\" together.** The humor comes from the clever wordplay using \"bun-dled\" to create this double meaning.'}, next=(), config={'configurable': {'thread_id': '2', 'checkpoint_ns': '', 'checkpoint_id': '1f06dd79-9e97-6bca-8002-ba6e578b89fe'}}, metadata={'source': 'loop', 'step': 2, 'parents': {}}, created_at='2025-07-31T06:28:41.609710+00:00', parent_config={'configurable': {'thread_id': '2', 'checkpoint_ns': '', 'checkpoint_id': '1f06dd79-8c0c-6046-8001-c94c9be595f4'}}, tasks=(), interrupts=()),\n",
       " StateSnapshot(values={'topic': 'burger', 'joke': 'Why did the hamburger break up with the hot dog? Because he felt like he was getting bun-dled.'}, next=('generate_explaination',), config={'configurable': {'thread_id': '2', 'checkpoint_ns': '', 'checkpoint_id': '1f06dd79-8c0c-6046-8001-c94c9be595f4'}}, metadata={'source': 'loop', 'step': 1, 'parents': {}}, created_at='2025-07-31T06:28:39.665043+00:00', parent_config={'configurable': {'thread_id': '2', 'checkpoint_ns': '', 'checkpoint_id': '1f06dd79-841e-65be-8000-5e6ee1e9c924'}}, tasks=(PregelTask(id='696e8036-1d6b-a237-7971-c73c93e5fb1f', name='generate_explaination', path=('__pregel_pull', 'generate_explaination'), error=None, interrupts=(), state=None, result={'explaination': 'This joke is a pun, playing on two different meanings of the word \"bundled.\"\\n\\nHere\\'s the breakdown:\\n\\n*   **Literal meaning of \"bundled\":** In the context of food, a \"bundle\" could refer to a group of things wrapped together.\\n*   **Figurative meaning of \"bundled\":** This is where the humor comes in. \"Bundled\" also sounds like \"bun-dled.\"\\n\\n**The Joke Explained:**\\n\\n1.  **The Setup:** \"Why did the hamburger break up with the hot dog?\" This sets up a scenario of a relationship ending between two common fast-food items.\\n\\n2.  **The Punchline:** \"Because he felt like he was getting bun-dled.\"\\n\\n3.  **The Pun:** The hamburger is breaking up with the hot dog because he feels like he\\'s being \"bun-dled.\" This means two things simultaneously:\\n    *   **Literally:** The hamburger is being put into a bun, and a hot dog is also typically served in a bun. So, the hamburger feels like it\\'s being \"bun-dled\" with the hot dog, perhaps in a shared bun or in a way that feels too close or constricting.\\n    *   **Figuratively (Sound-alike):** The phrase \"bun-dled\" sounds like \"bundled,\" which can imply being tied up, restricted, or overwhelmed by something. The hamburger feels like its individuality or freedom is being compromised by being \"bun-dled\" with the hot dog.\\n\\n**In essence, the hamburger is saying it felt like it was being forced into a situation with the hot dog that was too close and restrictive, like being \"bun-dled\" together.** The humor comes from the clever wordplay using \"bun-dled\" to create this double meaning.'}),), interrupts=()),\n",
       " StateSnapshot(values={'topic': 'burger'}, next=('generate_joke',), config={'configurable': {'thread_id': '2', 'checkpoint_ns': '', 'checkpoint_id': '1f06dd79-841e-65be-8000-5e6ee1e9c924'}}, metadata={'source': 'loop', 'step': 0, 'parents': {}}, created_at='2025-07-31T06:28:38.833692+00:00', parent_config={'configurable': {'thread_id': '2', 'checkpoint_ns': '', 'checkpoint_id': '1f06dd79-841c-6952-bfff-98da49271480'}}, tasks=(PregelTask(id='24206c07-651a-b00e-7927-380de7b91631', name='generate_joke', path=('__pregel_pull', 'generate_joke'), error=None, interrupts=(), state=None, result={'joke': 'Why did the hamburger break up with the hot dog? Because he felt like he was getting bun-dled.'}),), interrupts=()),\n",
       " StateSnapshot(values={}, next=('__start__',), config={'configurable': {'thread_id': '2', 'checkpoint_ns': '', 'checkpoint_id': '1f06dd79-841c-6952-bfff-98da49271480'}}, metadata={'source': 'input', 'step': -1, 'parents': {}}, created_at='2025-07-31T06:28:38.832974+00:00', parent_config=None, tasks=(PregelTask(id='7a98bd40-2bc7-c91b-ebe6-42341b2f1473', name='__start__', path=('__pregel_pull', '__start__'), error=None, interrupts=(), state=None, result={'topic': 'burger'}),), interrupts=())]"
      ]
     },
     "execution_count": 59,
     "metadata": {},
     "output_type": "execute_result"
    }
   ],
   "source": [
    "list(workflow.get_state_history(config2))"
   ]
  },
  {
   "cell_type": "code",
   "execution_count": 61,
   "id": "479b7295",
   "metadata": {},
   "outputs": [
    {
     "data": {
      "text/plain": [
       "{'topic': 'samosa',\n",
       " 'joke': 'Why did the samosa break up with the chutney? Because it felt like the relationship was getting too *spicy* and it needed some *space*!',\n",
       " 'explaination': 'This joke plays on the words \"spicy\" and \"space\" to create a humorous, albeit silly, reason for a breakup. Here\\'s the breakdown:\\n\\n*   **Samosa:** A popular Indian snack, typically a fried or baked pastry with a savory filling, often containing potatoes, peas, and spices.\\n*   **Chutney:** A condiment, often made from fruits, vegetables, and spices, that is commonly served with samosas. Chutneys can range in flavor from sweet to sour to very spicy.\\n\\nNow, let\\'s look at the punchline:\\n\\n*   **\"Because it felt like the relationship was getting too *spicy*...\"**\\n    *   **Literal Meaning (Food):** Samosas and chutneys are often served together, and many chutneys are indeed spicy. So, in a food context, a \"spicy\" relationship between a samosa and chutney is a very natural and expected pairing.\\n    *   **Figurative Meaning (Relationship):** In human relationships, \"spicy\" can mean exciting, passionate, or intense. However, it can also imply something that is too much, overwhelming, or causing discomfort. The samosa is personified here, suggesting the relationship\\'s intensity (likely due to the chutney\\'s spiciness) was becoming a problem.\\n\\n*   **\"...and it needed some *space*!\"**\\n    *   **Literal Meaning (Food):** \"Space\" in a food context could mean physical distance on a plate.\\n    *   **Figurative Meaning (Relationship):** In human relationships, \"needing space\" is a common reason for a breakup or a temporary separation. It means needing personal time, distance, or a break from the intensity of the relationship.\\n\\n**The Humor:**\\n\\nThe humor comes from the **absurdity of applying human relationship concepts to food items**. The joke anthropomorphizes the samosa and chutney, giving them feelings and motivations. The punchline cleverly uses words that have both literal food-related meanings and figurative human relationship meanings, creating a pun.\\n\\nEssentially, the samosa is saying: \"Our relationship was too intense (spicy), and I needed some distance (space) from it.\" The irony is that a samosa *is supposed* to be eaten with spicy chutney, making the breakup reason comical.'}"
      ]
     },
     "execution_count": 61,
     "metadata": {},
     "output_type": "execute_result"
    }
   ],
   "source": [
    "workflow.invoke(None, {\"configurable\": {\"thread_id\": \"2\", \"checkpoint_id\": \"1f06ddba-eccc-615f-8001-2658dc941d60\"}})"
   ]
  },
  {
   "cell_type": "code",
   "execution_count": null,
   "id": "3c3c1211",
   "metadata": {},
   "outputs": [],
   "source": []
  }
 ],
 "metadata": {
  "kernelspec": {
   "display_name": ".venv (3.13.3)",
   "language": "python",
   "name": "python3"
  },
  "language_info": {
   "codemirror_mode": {
    "name": "ipython",
    "version": 3
   },
   "file_extension": ".py",
   "mimetype": "text/x-python",
   "name": "python",
   "nbconvert_exporter": "python",
   "pygments_lexer": "ipython3",
   "version": "3.13.3"
  }
 },
 "nbformat": 4,
 "nbformat_minor": 5
}
