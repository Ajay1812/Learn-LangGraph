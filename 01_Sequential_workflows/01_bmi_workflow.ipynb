{
 "cells": [
  {
   "cell_type": "code",
   "execution_count": 2,
   "id": "5bd866fd",
   "metadata": {},
   "outputs": [],
   "source": [
    "from langgraph.graph import StateGraph, START, END\n",
    "from typing import TypedDict"
   ]
  },
  {
   "cell_type": "code",
   "execution_count": 3,
   "id": "43b7c5ee",
   "metadata": {},
   "outputs": [],
   "source": [
    "class BMIState(TypedDict):\n",
    "    height: float # in mtrs\n",
    "    weight: float # in kgs\n",
    "    bmi: float\n",
    "    category: str"
   ]
  },
  {
   "cell_type": "code",
   "execution_count": 4,
   "id": "fa85a87b",
   "metadata": {},
   "outputs": [],
   "source": [
    "def bmi_calculator(state: BMIState) -> BMIState:\n",
    "    state['bmi'] = round(state[\"weight\"]/state[\"height\"]**2, 2)\n",
    "    return state"
   ]
  },
  {
   "cell_type": "code",
   "execution_count": 5,
   "id": "b008743a",
   "metadata": {},
   "outputs": [],
   "source": [
    "def weight_category(state: BMIState) -> BMIState:\n",
    "    bmi = state[\"bmi\"]\n",
    "    if bmi < 18.5:\n",
    "        state[\"category\"] = \"underweight\"\n",
    "    elif bmi >= 18.5 and bmi < 25:\n",
    "        state[\"category\"] = \"healthy\"\n",
    "    elif bmi >= 25 and bmi < 30:\n",
    "        state[\"category\"] = \"overweight\"\n",
    "    else:\n",
    "        state[\"category\"] = \"obesity\"\n",
    "    return state"
   ]
  },
  {
   "cell_type": "code",
   "execution_count": 6,
   "id": "88a04973",
   "metadata": {},
   "outputs": [],
   "source": [
    "graph = StateGraph(state_schema=BMIState)\n",
    "graph.add_node(\"bmi_calculator\", bmi_calculator)\n",
    "graph.add_node(\"weight_category\", weight_category)\n",
    "graph.add_edge(START, \"bmi_calculator\")\n",
    "graph.add_edge(\"bmi_calculator\",\"weight_category\")\n",
    "graph.add_edge(\"weight_category\", END)\n",
    "app = graph.compile()"
   ]
  },
  {
   "cell_type": "code",
   "execution_count": 7,
   "id": "26d39945",
   "metadata": {},
   "outputs": [
    {
     "data": {
      "image/png": "[encoded data removed]",
      "text/plain": [
       "<IPython.core.display.Image object>"
      ]
     },
     "metadata": {},
     "output_type": "display_data"
    }
   ],
   "source": [
    "from IPython.display import Image, display\n",
    "display(Image(app.get_graph().draw_mermaid_png()))"
   ]
  },
  {
   "cell_type": "code",
   "execution_count": 10,
   "id": "8d8dbf22",
   "metadata": {},
   "outputs": [],
   "source": [
    "response = app.invoke({\"weight\": 84.5, \"height\": 1.67})"
   ]
  },
  {
   "cell_type": "code",
   "execution_count": 11,
   "id": "8c67a79b",
   "metadata": {},
   "outputs": [
    {
     "data": {
      "text/plain": [
       "{'height': 1.67, 'weight': 84.5, 'bmi': 30.3, 'category': 'obesity'}"
      ]
     },
     "execution_count": 11,
     "metadata": {},
     "output_type": "execute_result"
    }
   ],
   "source": [
    "response"
   ]
  },
  {
   "cell_type": "code",
   "execution_count": null,
   "id": "c041ac9a",
   "metadata": {},
   "outputs": [],
   "source": []
  }
 ],
 "metadata": {
  "kernelspec": {
   "display_name": ".venv",
   "language": "python",
   "name": "python3"
  },
  "language_info": {
   "codemirror_mode": {
    "name": "ipython",
    "version": 3
   },
   "file_extension": ".py",
   "mimetype": "text/x-python",
   "name": "python",
   "nbconvert_exporter": "python",
   "pygments_lexer": "ipython3",
   "version": "3.12.2"
  }
 },
 "nbformat": 4,
 "nbformat_minor": 5
}
