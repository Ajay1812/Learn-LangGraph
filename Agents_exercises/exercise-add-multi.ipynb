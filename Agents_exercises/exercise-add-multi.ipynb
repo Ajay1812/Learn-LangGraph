{
 "cells": [
  {
   "cell_type": "code",
   "execution_count": 37,
   "id": "832035b4",
   "metadata": {},
   "outputs": [],
   "source": [
    "from langgraph.graph import StateGraph\n",
    "from typing import TypedDict, List\n",
    "from functools import reduce"
   ]
  },
  {
   "cell_type": "code",
   "execution_count": 38,
   "id": "cd5a79af",
   "metadata": {},
   "outputs": [],
   "source": [
    "class AgentState(TypedDict):\n",
    "    name: str\n",
    "    values: List[int]\n",
    "    operation: str\n",
    "    result: str"
   ]
  },
  {
   "cell_type": "code",
   "execution_count": 54,
   "id": "e381ad67",
   "metadata": {},
   "outputs": [],
   "source": [
    "def operation(state: AgentState):\n",
    "    if state[\"operation\"] == \"*\":\n",
    "        result_value = 1\n",
    "        for i in state[\"values\"]:\n",
    "            result_value *= i\n",
    "        # result_value = reduce(lambda x, y: x * y, state['values'])\n",
    "    elif state[\"operation\"] == \"+\":\n",
    "        result_value = sum(state['values'])\n",
    "        # result_value = reduce(lambda x, y: x + y, state['values'])\n",
    "    else: \n",
    "        state[\"result\"] = \"you haven't provide operation\"\n",
    "        return state[\"result\"]\n",
    "    \n",
    "    state[\"result\"] = f\"Hi {state['name']}, your answer is: {result_value}\"\n",
    "    return state"
   ]
  },
  {
   "cell_type": "code",
   "execution_count": 55,
   "id": "360b0e77",
   "metadata": {},
   "outputs": [],
   "source": [
    "graph = StateGraph(state_schema=AgentState)\n",
    "graph.add_node(\"evaluator\", operation)\n",
    "graph.set_entry_point(\"evaluator\")\n",
    "graph.set_finish_point(\"evaluator\")\n",
    "app = graph.compile()"
   ]
  },
  {
   "cell_type": "code",
   "execution_count": 56,
   "id": "a808bfdf",
   "metadata": {},
   "outputs": [],
   "source": [
    "response = app.invoke({\"name\": \"Ajay\", \"values\": [1,2,3,4,5], \"operation\": \"*\"})"
   ]
  },
  {
   "cell_type": "code",
   "execution_count": 57,
   "id": "003cdf7e",
   "metadata": {},
   "outputs": [
    {
     "data": {
      "text/plain": [
       "'Hi Ajay, your answer is: 120'"
      ]
     },
     "execution_count": 57,
     "metadata": {},
     "output_type": "execute_result"
    }
   ],
   "source": [
    "response[\"result\"]"
   ]
  },
  {
   "cell_type": "code",
   "execution_count": null,
   "id": "28cd4de9",
   "metadata": {},
   "outputs": [],
   "source": []
  },
  {
   "cell_type": "code",
   "execution_count": null,
   "id": "306c636c",
   "metadata": {},
   "outputs": [],
   "source": []
  }
 ],
 "metadata": {
  "kernelspec": {
   "display_name": ".venv",
   "language": "python",
   "name": "python3"
  },
  "language_info": {
   "codemirror_mode": {
    "name": "ipython",
    "version": 3
   },
   "file_extension": ".py",
   "mimetype": "text/x-python",
   "name": "python",
   "nbconvert_exporter": "python",
   "pygments_lexer": "ipython3",
   "version": "3.13.3"
  }
 },
 "nbformat": 4,
 "nbformat_minor": 5
}
